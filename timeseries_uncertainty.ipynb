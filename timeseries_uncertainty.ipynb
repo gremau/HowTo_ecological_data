{
 "cells": [
  {
   "cell_type": "markdown",
   "metadata": {},
   "source": [
    "# Calculating and propagating uncertainty in a timeseries\n",
    "\n",
    "This mostly applies to time series of meteorological or flux data."
   ]
  },
  {
   "cell_type": "markdown",
   "metadata": {},
   "source": [
    "## Falge method\n",
    "\n",
    "The Falge gapfilling method provides standard deviation estimates for the flux or met timeseries being filled. These estimates are for both gaps and non-gaps. When using the MPI eddyproc tool for gapfilling (based on Reichstein and Falge methods), this full timeseries standard deviation is provided in the `{var}_fs_unc` column. This can then be used to calculate flux (or other variable) uncertainties for averages or integrals of the data."
   ]
  }
 ],
 "metadata": {
  "kernelspec": {
   "display_name": "Python 3",
   "language": "python",
   "name": "python3"
  },
  "language_info": {
   "codemirror_mode": {
    "name": "ipython",
    "version": 3
   },
   "file_extension": ".py",
   "mimetype": "text/x-python",
   "name": "python",
   "nbconvert_exporter": "python",
   "pygments_lexer": "ipython3",
   "version": "3.4.4"
  }
 },
 "nbformat": 4,
 "nbformat_minor": 0
}
